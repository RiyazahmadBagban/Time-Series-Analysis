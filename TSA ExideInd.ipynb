{
 "cells": [
  {
   "cell_type": "code",
   "execution_count": 10,
   "id": "2ed704e7",
   "metadata": {},
   "outputs": [],
   "source": [
    "import yfinance as yf\n",
    "import warnings\n",
    "warnings.filterwarnings('ignore')\n",
    "exide=yf.Ticker('EXIDEIND.NS')\n",
    "\n",
    "# data = yf.download(\"EXIDEIND.NS ASHOKLEY.NS\", start=\"2003-03-01\", end=\"2022-03-30\")\n",
    "# data\n"
   ]
  },
  {
   "cell_type": "code",
   "execution_count": 11,
   "id": "10e412ec",
   "metadata": {
    "collapsed": true
   },
   "outputs": [
    {
     "data": {
      "text/plain": [
       "{'zip': '700020',\n",
       " 'sector': 'Consumer Cyclical',\n",
       " 'longBusinessSummary': 'Exide Industries Limited designs, manufactures, markets, and sells lead acid storage batteries and allied products in India and internationally. The company operates in two segments, Automotive and Industrial. It offers automotive, industrial, genset, solar, inverter, and submarine batteries, as well as home UPS systems and e-rickshaws. The company also provides life insurance products through individual agents, corporate agents, banks, etc.; manufactures and supplies recycled lead and lead alloys; manufactures lead acid automotive and motorcycle batteries; provides energy storage solutions and technical support for manufacturing of lithium ion batteries; and produces and distributes industrial battery chargers, rectifiers, and parts, as well as engages in the non-conventional energy business activities. In addition, it offers solutions in the areas of equipment selection, battery sizing, optimum room layout, installation, operation, and maintenance. Exide Industries Limited sells its batteries under the EXIDE, INDEX, DYNEX, SF SONIC, CHLORIDE, and CEIL brand names through a distribution network of approximately 48,000 direct and indirect dealers. Its products are used in power, solar, railways, telecom, UPS, projects, traction, and other industries. The company was formerly known as Chloride Industries Ltd. and changed its name to Exide Industries Limited in August 1995. Exide Industries Limited was founded in 1916 and is headquartered in Kolkata, India.',\n",
       " 'city': 'Kolkata',\n",
       " 'phone': '91 33 2302 3400',\n",
       " 'country': 'India',\n",
       " 'companyOfficers': [],\n",
       " 'website': 'https://www.exideindustries.com',\n",
       " 'maxAge': 1,\n",
       " 'address1': 'Exide House',\n",
       " 'fax': '91 33 2283 2175',\n",
       " 'industry': 'Auto Parts',\n",
       " 'address2': '59E Chowringhee Road',\n",
       " 'ebitdaMargins': 0.10946,\n",
       " 'profitMargins': 0.34145,\n",
       " 'grossMargins': 0.32156,\n",
       " 'operatingCashflow': 612499968,\n",
       " 'revenueGrowth': -0.228,\n",
       " 'operatingMargins': 0.075100005,\n",
       " 'ebitda': 13999299584,\n",
       " 'targetLowPrice': None,\n",
       " 'recommendationKey': 'none',\n",
       " 'grossProfits': 41124400000,\n",
       " 'freeCashflow': -15408650240,\n",
       " 'targetMedianPrice': None,\n",
       " 'currentPrice': 145,\n",
       " 'earningsGrowth': 11.29,\n",
       " 'currentRatio': 1.817,\n",
       " 'returnOnAssets': 0.028180001,\n",
       " 'numberOfAnalystOpinions': None,\n",
       " 'targetMeanPrice': None,\n",
       " 'debtToEquity': 4.89,\n",
       " 'returnOnEquity': 0.07739,\n",
       " 'targetHighPrice': None,\n",
       " 'totalCash': 9105300480,\n",
       " 'totalDebt': 5195100160,\n",
       " 'totalRevenue': 127892201472,\n",
       " 'totalCashPerShare': 10.712,\n",
       " 'financialCurrency': 'INR',\n",
       " 'revenuePerShare': 150.474,\n",
       " 'quickRatio': 0.713,\n",
       " 'recommendationMean': None,\n",
       " 'exchange': 'NSI',\n",
       " 'shortName': 'EXIDE INDUSTRIES',\n",
       " 'longName': 'Exide Industries Limited',\n",
       " 'exchangeTimezoneName': 'Asia/Kolkata',\n",
       " 'exchangeTimezoneShortName': 'IST',\n",
       " 'isEsgPopulated': False,\n",
       " 'gmtOffSetMilliseconds': '19800000',\n",
       " 'quoteType': 'EQUITY',\n",
       " 'symbol': 'EXIDEIND.NS',\n",
       " 'messageBoardId': 'finmb_878434',\n",
       " 'market': 'in_market',\n",
       " 'annualHoldingsTurnover': None,\n",
       " 'enterpriseToRevenue': 0.935,\n",
       " 'beta3Year': None,\n",
       " 'enterpriseToEbitda': 8.538,\n",
       " '52WeekChange': -0.20488876,\n",
       " 'morningStarRiskRating': None,\n",
       " 'forwardEps': None,\n",
       " 'revenueQuarterlyGrowth': None,\n",
       " 'sharesOutstanding': 850000000,\n",
       " 'fundInceptionDate': None,\n",
       " 'annualReportExpenseRatio': None,\n",
       " 'totalAssets': None,\n",
       " 'bookValue': 124.516,\n",
       " 'sharesShort': None,\n",
       " 'sharesPercentSharesOut': None,\n",
       " 'fundFamily': None,\n",
       " 'lastFiscalYearEnd': 1648684800,\n",
       " 'heldPercentInstitutions': 0.22067,\n",
       " 'netIncomeToCommon': 7043999744,\n",
       " 'trailingEps': 8.29,\n",
       " 'lastDividendValue': 2,\n",
       " 'SandP52WeekChange': -0.10685998,\n",
       " 'priceToBook': 1.1645089,\n",
       " 'heldPercentInsiders': 0.50921,\n",
       " 'nextFiscalYearEnd': 1711843200,\n",
       " 'yield': None,\n",
       " 'mostRecentQuarter': 1648684800,\n",
       " 'shortRatio': None,\n",
       " 'sharesShortPreviousMonthDate': None,\n",
       " 'floatShares': 409617292,\n",
       " 'beta': 0.450586,\n",
       " 'enterpriseValue': 119527538688,\n",
       " 'priceHint': 2,\n",
       " 'threeYearAverageReturn': None,\n",
       " 'lastSplitDate': 1157673600,\n",
       " 'lastSplitFactor': '10:1',\n",
       " 'legalType': None,\n",
       " 'lastDividendDate': 1644192000,\n",
       " 'morningStarOverallRating': None,\n",
       " 'earningsQuarterlyGrowth': 11.301,\n",
       " 'priceToSalesTrailing12Months': 0.9637022,\n",
       " 'dateShortInterest': None,\n",
       " 'pegRatio': None,\n",
       " 'ytdReturn': None,\n",
       " 'forwardPE': None,\n",
       " 'lastCapGain': None,\n",
       " 'shortPercentOfFloat': None,\n",
       " 'sharesShortPriorMonth': None,\n",
       " 'impliedSharesOutstanding': 0,\n",
       " 'category': None,\n",
       " 'fiveYearAverageReturn': None,\n",
       " 'previousClose': 144.75,\n",
       " 'regularMarketOpen': 146.2,\n",
       " 'twoHundredDayAverage': 160.55975,\n",
       " 'trailingAnnualDividendYield': 0,\n",
       " 'payoutRatio': 0.24129999,\n",
       " 'volume24Hr': None,\n",
       " 'regularMarketDayHigh': 146.7,\n",
       " 'navPrice': None,\n",
       " 'averageDailyVolume10Day': 1291559,\n",
       " 'regularMarketPreviousClose': 144.75,\n",
       " 'fiftyDayAverage': 143.355,\n",
       " 'trailingAnnualDividendRate': 0,\n",
       " 'open': 146.2,\n",
       " 'toCurrency': None,\n",
       " 'averageVolume10days': 1291559,\n",
       " 'expireDate': None,\n",
       " 'algorithm': None,\n",
       " 'dividendRate': 4,\n",
       " 'exDividendDate': 1644192000,\n",
       " 'circulatingSupply': None,\n",
       " 'startDate': None,\n",
       " 'regularMarketDayLow': 144.2,\n",
       " 'currency': 'INR',\n",
       " 'trailingPE': 17.490953,\n",
       " 'regularMarketVolume': 934276,\n",
       " 'lastMarket': None,\n",
       " 'maxSupply': None,\n",
       " 'openInterest': None,\n",
       " 'marketCap': 123249999872,\n",
       " 'volumeAllCurrencies': None,\n",
       " 'strikePrice': None,\n",
       " 'averageVolume': 1671343,\n",
       " 'dayLow': 144.2,\n",
       " 'ask': 145,\n",
       " 'askSize': 0,\n",
       " 'volume': 934276,\n",
       " 'fiftyTwoWeekHigh': 204.9,\n",
       " 'fromCurrency': None,\n",
       " 'fiveYearAvgDividendYield': 1.44,\n",
       " 'fiftyTwoWeekLow': 130.25,\n",
       " 'bid': 144.95,\n",
       " 'tradeable': False,\n",
       " 'dividendYield': 0.0276,\n",
       " 'bidSize': 0,\n",
       " 'dayHigh': 146.7,\n",
       " 'coinMarketCapLink': None,\n",
       " 'regularMarketPrice': 145,\n",
       " 'preMarketPrice': None,\n",
       " 'logo_url': 'https://logo.clearbit.com/exideindustries.com'}"
      ]
     },
     "execution_count": 11,
     "metadata": {},
     "output_type": "execute_result"
    }
   ],
   "source": [
    "# exide.info"
   ]
  },
  {
   "cell_type": "code",
   "execution_count": 12,
   "id": "77073d67",
   "metadata": {
    "collapsed": true
   },
   "outputs": [
    {
     "data": {
      "text/html": [
       "<div>\n",
       "<style scoped>\n",
       "    .dataframe tbody tr th:only-of-type {\n",
       "        vertical-align: middle;\n",
       "    }\n",
       "\n",
       "    .dataframe tbody tr th {\n",
       "        vertical-align: top;\n",
       "    }\n",
       "\n",
       "    .dataframe thead th {\n",
       "        text-align: right;\n",
       "    }\n",
       "</style>\n",
       "<table border=\"1\" class=\"dataframe\">\n",
       "  <thead>\n",
       "    <tr style=\"text-align: right;\">\n",
       "      <th></th>\n",
       "      <th>Open</th>\n",
       "      <th>High</th>\n",
       "      <th>Low</th>\n",
       "      <th>Close</th>\n",
       "      <th>Volume</th>\n",
       "      <th>Dividends</th>\n",
       "      <th>Stock Splits</th>\n",
       "    </tr>\n",
       "    <tr>\n",
       "      <th>Date</th>\n",
       "      <th></th>\n",
       "      <th></th>\n",
       "      <th></th>\n",
       "      <th></th>\n",
       "      <th></th>\n",
       "      <th></th>\n",
       "      <th></th>\n",
       "    </tr>\n",
       "  </thead>\n",
       "  <tbody>\n",
       "    <tr>\n",
       "      <th>2003-01-01</th>\n",
       "      <td>3.404726</td>\n",
       "      <td>3.404726</td>\n",
       "      <td>3.374462</td>\n",
       "      <td>3.382028</td>\n",
       "      <td>27940</td>\n",
       "      <td>0.0</td>\n",
       "      <td>0.0</td>\n",
       "    </tr>\n",
       "    <tr>\n",
       "      <th>2003-01-02</th>\n",
       "      <td>3.404727</td>\n",
       "      <td>3.427425</td>\n",
       "      <td>3.382028</td>\n",
       "      <td>3.404727</td>\n",
       "      <td>44560</td>\n",
       "      <td>0.0</td>\n",
       "      <td>0.0</td>\n",
       "    </tr>\n",
       "    <tr>\n",
       "      <th>2003-01-03</th>\n",
       "      <td>3.351764</td>\n",
       "      <td>3.419859</td>\n",
       "      <td>3.351764</td>\n",
       "      <td>3.404727</td>\n",
       "      <td>34800</td>\n",
       "      <td>0.0</td>\n",
       "      <td>0.0</td>\n",
       "    </tr>\n",
       "    <tr>\n",
       "      <th>2003-01-06</th>\n",
       "      <td>3.389595</td>\n",
       "      <td>3.419859</td>\n",
       "      <td>3.389595</td>\n",
       "      <td>3.404727</td>\n",
       "      <td>71560</td>\n",
       "      <td>0.0</td>\n",
       "      <td>0.0</td>\n",
       "    </tr>\n",
       "    <tr>\n",
       "      <th>2003-01-07</th>\n",
       "      <td>3.329065</td>\n",
       "      <td>3.404725</td>\n",
       "      <td>3.329065</td>\n",
       "      <td>3.397159</td>\n",
       "      <td>89980</td>\n",
       "      <td>0.0</td>\n",
       "      <td>0.0</td>\n",
       "    </tr>\n",
       "    <tr>\n",
       "      <th>...</th>\n",
       "      <td>...</td>\n",
       "      <td>...</td>\n",
       "      <td>...</td>\n",
       "      <td>...</td>\n",
       "      <td>...</td>\n",
       "      <td>...</td>\n",
       "      <td>...</td>\n",
       "    </tr>\n",
       "    <tr>\n",
       "      <th>2022-03-24</th>\n",
       "      <td>154.000000</td>\n",
       "      <td>155.649994</td>\n",
       "      <td>153.500000</td>\n",
       "      <td>154.199997</td>\n",
       "      <td>1288337</td>\n",
       "      <td>0.0</td>\n",
       "      <td>0.0</td>\n",
       "    </tr>\n",
       "    <tr>\n",
       "      <th>2022-03-25</th>\n",
       "      <td>156.949997</td>\n",
       "      <td>156.949997</td>\n",
       "      <td>153.000000</td>\n",
       "      <td>153.449997</td>\n",
       "      <td>3175129</td>\n",
       "      <td>0.0</td>\n",
       "      <td>0.0</td>\n",
       "    </tr>\n",
       "    <tr>\n",
       "      <th>2022-03-28</th>\n",
       "      <td>153.250000</td>\n",
       "      <td>154.350006</td>\n",
       "      <td>150.449997</td>\n",
       "      <td>151.850006</td>\n",
       "      <td>2231228</td>\n",
       "      <td>0.0</td>\n",
       "      <td>0.0</td>\n",
       "    </tr>\n",
       "    <tr>\n",
       "      <th>2022-03-29</th>\n",
       "      <td>152.199997</td>\n",
       "      <td>153.550003</td>\n",
       "      <td>151.199997</td>\n",
       "      <td>151.449997</td>\n",
       "      <td>3796038</td>\n",
       "      <td>0.0</td>\n",
       "      <td>0.0</td>\n",
       "    </tr>\n",
       "    <tr>\n",
       "      <th>2022-03-30</th>\n",
       "      <td>152.800003</td>\n",
       "      <td>154.000000</td>\n",
       "      <td>151.899994</td>\n",
       "      <td>152.500000</td>\n",
       "      <td>2040777</td>\n",
       "      <td>0.0</td>\n",
       "      <td>0.0</td>\n",
       "    </tr>\n",
       "  </tbody>\n",
       "</table>\n",
       "<p>4778 rows × 7 columns</p>\n",
       "</div>"
      ],
      "text/plain": [
       "                  Open        High         Low       Close   Volume  \\\n",
       "Date                                                                  \n",
       "2003-01-01    3.404726    3.404726    3.374462    3.382028    27940   \n",
       "2003-01-02    3.404727    3.427425    3.382028    3.404727    44560   \n",
       "2003-01-03    3.351764    3.419859    3.351764    3.404727    34800   \n",
       "2003-01-06    3.389595    3.419859    3.389595    3.404727    71560   \n",
       "2003-01-07    3.329065    3.404725    3.329065    3.397159    89980   \n",
       "...                ...         ...         ...         ...      ...   \n",
       "2022-03-24  154.000000  155.649994  153.500000  154.199997  1288337   \n",
       "2022-03-25  156.949997  156.949997  153.000000  153.449997  3175129   \n",
       "2022-03-28  153.250000  154.350006  150.449997  151.850006  2231228   \n",
       "2022-03-29  152.199997  153.550003  151.199997  151.449997  3796038   \n",
       "2022-03-30  152.800003  154.000000  151.899994  152.500000  2040777   \n",
       "\n",
       "            Dividends  Stock Splits  \n",
       "Date                                 \n",
       "2003-01-01        0.0           0.0  \n",
       "2003-01-02        0.0           0.0  \n",
       "2003-01-03        0.0           0.0  \n",
       "2003-01-06        0.0           0.0  \n",
       "2003-01-07        0.0           0.0  \n",
       "...               ...           ...  \n",
       "2022-03-24        0.0           0.0  \n",
       "2022-03-25        0.0           0.0  \n",
       "2022-03-28        0.0           0.0  \n",
       "2022-03-29        0.0           0.0  \n",
       "2022-03-30        0.0           0.0  \n",
       "\n",
       "[4778 rows x 7 columns]"
      ]
     },
     "execution_count": 12,
     "metadata": {},
     "output_type": "execute_result"
    }
   ],
   "source": [
    "# old  =  exide.history(start=\"2003-01-01\",  end=\"2022-03-31\")\n",
    "# old\n"
   ]
  },
  {
   "cell_type": "code",
   "execution_count": 13,
   "id": "513659a8",
   "metadata": {},
   "outputs": [
    {
     "data": {
      "text/plain": [
       "(4778, 7)"
      ]
     },
     "execution_count": 13,
     "metadata": {},
     "output_type": "execute_result"
    }
   ],
   "source": [
    "old.shape"
   ]
  },
  {
   "cell_type": "code",
   "execution_count": 14,
   "id": "1f0bb31a",
   "metadata": {},
   "outputs": [],
   "source": [
    "# old.to_csv('EXIDEIND.csv')"
   ]
  },
  {
   "cell_type": "code",
   "execution_count": 2,
   "id": "e2cf14ef",
   "metadata": {
    "collapsed": true
   },
   "outputs": [
    {
     "data": {
      "text/html": [
       "<div>\n",
       "<style scoped>\n",
       "    .dataframe tbody tr th:only-of-type {\n",
       "        vertical-align: middle;\n",
       "    }\n",
       "\n",
       "    .dataframe tbody tr th {\n",
       "        vertical-align: top;\n",
       "    }\n",
       "\n",
       "    .dataframe thead th {\n",
       "        text-align: right;\n",
       "    }\n",
       "</style>\n",
       "<table border=\"1\" class=\"dataframe\">\n",
       "  <thead>\n",
       "    <tr style=\"text-align: right;\">\n",
       "      <th></th>\n",
       "      <th>Open</th>\n",
       "      <th>High</th>\n",
       "      <th>Low</th>\n",
       "      <th>Close</th>\n",
       "      <th>Volume</th>\n",
       "      <th>Dividends</th>\n",
       "      <th>Stock Splits</th>\n",
       "    </tr>\n",
       "    <tr>\n",
       "      <th>Date</th>\n",
       "      <th></th>\n",
       "      <th></th>\n",
       "      <th></th>\n",
       "      <th></th>\n",
       "      <th></th>\n",
       "      <th></th>\n",
       "      <th></th>\n",
       "    </tr>\n",
       "  </thead>\n",
       "  <tbody>\n",
       "    <tr>\n",
       "      <th>2003-01-01</th>\n",
       "      <td>3.404727</td>\n",
       "      <td>3.404727</td>\n",
       "      <td>3.374462</td>\n",
       "      <td>3.382028</td>\n",
       "      <td>27940</td>\n",
       "      <td>0.0</td>\n",
       "      <td>0.0</td>\n",
       "    </tr>\n",
       "    <tr>\n",
       "      <th>2003-01-02</th>\n",
       "      <td>3.404726</td>\n",
       "      <td>3.427425</td>\n",
       "      <td>3.382028</td>\n",
       "      <td>3.404726</td>\n",
       "      <td>44560</td>\n",
       "      <td>0.0</td>\n",
       "      <td>0.0</td>\n",
       "    </tr>\n",
       "    <tr>\n",
       "      <th>2003-01-03</th>\n",
       "      <td>3.351764</td>\n",
       "      <td>3.419858</td>\n",
       "      <td>3.351764</td>\n",
       "      <td>3.404726</td>\n",
       "      <td>34800</td>\n",
       "      <td>0.0</td>\n",
       "      <td>0.0</td>\n",
       "    </tr>\n",
       "    <tr>\n",
       "      <th>2003-01-06</th>\n",
       "      <td>3.389594</td>\n",
       "      <td>3.419858</td>\n",
       "      <td>3.389594</td>\n",
       "      <td>3.404726</td>\n",
       "      <td>71560</td>\n",
       "      <td>0.0</td>\n",
       "      <td>0.0</td>\n",
       "    </tr>\n",
       "    <tr>\n",
       "      <th>2003-01-07</th>\n",
       "      <td>3.329066</td>\n",
       "      <td>3.404727</td>\n",
       "      <td>3.329066</td>\n",
       "      <td>3.397161</td>\n",
       "      <td>89980</td>\n",
       "      <td>0.0</td>\n",
       "      <td>0.0</td>\n",
       "    </tr>\n",
       "    <tr>\n",
       "      <th>...</th>\n",
       "      <td>...</td>\n",
       "      <td>...</td>\n",
       "      <td>...</td>\n",
       "      <td>...</td>\n",
       "      <td>...</td>\n",
       "      <td>...</td>\n",
       "      <td>...</td>\n",
       "    </tr>\n",
       "    <tr>\n",
       "      <th>2020-03-24</th>\n",
       "      <td>130.943197</td>\n",
       "      <td>137.500141</td>\n",
       "      <td>128.300849</td>\n",
       "      <td>133.145157</td>\n",
       "      <td>3437460</td>\n",
       "      <td>0.0</td>\n",
       "      <td>0.0</td>\n",
       "    </tr>\n",
       "    <tr>\n",
       "      <th>2020-03-25</th>\n",
       "      <td>128.398702</td>\n",
       "      <td>132.509023</td>\n",
       "      <td>127.322197</td>\n",
       "      <td>129.328415</td>\n",
       "      <td>2831968</td>\n",
       "      <td>0.0</td>\n",
       "      <td>0.0</td>\n",
       "    </tr>\n",
       "    <tr>\n",
       "      <th>2020-03-26</th>\n",
       "      <td>129.670954</td>\n",
       "      <td>131.628251</td>\n",
       "      <td>122.331088</td>\n",
       "      <td>124.092659</td>\n",
       "      <td>7137720</td>\n",
       "      <td>0.0</td>\n",
       "      <td>0.0</td>\n",
       "    </tr>\n",
       "    <tr>\n",
       "      <th>2020-03-27</th>\n",
       "      <td>127.224321</td>\n",
       "      <td>130.502800</td>\n",
       "      <td>123.309726</td>\n",
       "      <td>127.811516</td>\n",
       "      <td>2572890</td>\n",
       "      <td>0.0</td>\n",
       "      <td>0.0</td>\n",
       "    </tr>\n",
       "    <tr>\n",
       "      <th>2020-03-30</th>\n",
       "      <td>125.854229</td>\n",
       "      <td>129.573082</td>\n",
       "      <td>123.016138</td>\n",
       "      <td>124.190521</td>\n",
       "      <td>2019201</td>\n",
       "      <td>0.0</td>\n",
       "      <td>0.0</td>\n",
       "    </tr>\n",
       "  </tbody>\n",
       "</table>\n",
       "<p>4281 rows × 7 columns</p>\n",
       "</div>"
      ],
      "text/plain": [
       "                  Open        High         Low       Close   Volume  \\\n",
       "Date                                                                  \n",
       "2003-01-01    3.404727    3.404727    3.374462    3.382028    27940   \n",
       "2003-01-02    3.404726    3.427425    3.382028    3.404726    44560   \n",
       "2003-01-03    3.351764    3.419858    3.351764    3.404726    34800   \n",
       "2003-01-06    3.389594    3.419858    3.389594    3.404726    71560   \n",
       "2003-01-07    3.329066    3.404727    3.329066    3.397161    89980   \n",
       "...                ...         ...         ...         ...      ...   \n",
       "2020-03-24  130.943197  137.500141  128.300849  133.145157  3437460   \n",
       "2020-03-25  128.398702  132.509023  127.322197  129.328415  2831968   \n",
       "2020-03-26  129.670954  131.628251  122.331088  124.092659  7137720   \n",
       "2020-03-27  127.224321  130.502800  123.309726  127.811516  2572890   \n",
       "2020-03-30  125.854229  129.573082  123.016138  124.190521  2019201   \n",
       "\n",
       "            Dividends  Stock Splits  \n",
       "Date                                 \n",
       "2003-01-01        0.0           0.0  \n",
       "2003-01-02        0.0           0.0  \n",
       "2003-01-03        0.0           0.0  \n",
       "2003-01-06        0.0           0.0  \n",
       "2003-01-07        0.0           0.0  \n",
       "...               ...           ...  \n",
       "2020-03-24        0.0           0.0  \n",
       "2020-03-25        0.0           0.0  \n",
       "2020-03-26        0.0           0.0  \n",
       "2020-03-27        0.0           0.0  \n",
       "2020-03-30        0.0           0.0  \n",
       "\n",
       "[4281 rows x 7 columns]"
      ]
     },
     "execution_count": 2,
     "metadata": {},
     "output_type": "execute_result"
    }
   ],
   "source": [
    "import pandas as pd\n",
    "data=pd.read_csv('EXIDEIND.csv',index_col=0,parse_dates=True,squeeze=True)\n",
    "data\n"
   ]
  },
  {
   "cell_type": "code",
   "execution_count": 19,
   "id": "4e567215",
   "metadata": {},
   "outputs": [
    {
     "data": {
      "text/html": [
       "<div>\n",
       "<style scoped>\n",
       "    .dataframe tbody tr th:only-of-type {\n",
       "        vertical-align: middle;\n",
       "    }\n",
       "\n",
       "    .dataframe tbody tr th {\n",
       "        vertical-align: top;\n",
       "    }\n",
       "\n",
       "    .dataframe thead th {\n",
       "        text-align: right;\n",
       "    }\n",
       "</style>\n",
       "<table border=\"1\" class=\"dataframe\">\n",
       "  <thead>\n",
       "    <tr style=\"text-align: right;\">\n",
       "      <th></th>\n",
       "      <th>Date</th>\n",
       "      <th>Open</th>\n",
       "      <th>High</th>\n",
       "      <th>Low</th>\n",
       "      <th>Close</th>\n",
       "      <th>Volume</th>\n",
       "      <th>Dividends</th>\n",
       "      <th>Stock Splits</th>\n",
       "    </tr>\n",
       "  </thead>\n",
       "  <tbody>\n",
       "    <tr>\n",
       "      <th>0</th>\n",
       "      <td>2003-01-01</td>\n",
       "      <td>3.404726</td>\n",
       "      <td>3.404726</td>\n",
       "      <td>3.374462</td>\n",
       "      <td>3.382028</td>\n",
       "      <td>27940</td>\n",
       "      <td>0.0</td>\n",
       "      <td>0.0</td>\n",
       "    </tr>\n",
       "    <tr>\n",
       "      <th>1</th>\n",
       "      <td>2003-01-02</td>\n",
       "      <td>3.404727</td>\n",
       "      <td>3.427425</td>\n",
       "      <td>3.382028</td>\n",
       "      <td>3.404727</td>\n",
       "      <td>44560</td>\n",
       "      <td>0.0</td>\n",
       "      <td>0.0</td>\n",
       "    </tr>\n",
       "    <tr>\n",
       "      <th>2</th>\n",
       "      <td>2003-01-03</td>\n",
       "      <td>3.351764</td>\n",
       "      <td>3.419859</td>\n",
       "      <td>3.351764</td>\n",
       "      <td>3.404727</td>\n",
       "      <td>34800</td>\n",
       "      <td>0.0</td>\n",
       "      <td>0.0</td>\n",
       "    </tr>\n",
       "    <tr>\n",
       "      <th>3</th>\n",
       "      <td>2003-01-06</td>\n",
       "      <td>3.389595</td>\n",
       "      <td>3.419859</td>\n",
       "      <td>3.389595</td>\n",
       "      <td>3.404727</td>\n",
       "      <td>71560</td>\n",
       "      <td>0.0</td>\n",
       "      <td>0.0</td>\n",
       "    </tr>\n",
       "    <tr>\n",
       "      <th>4</th>\n",
       "      <td>2003-01-07</td>\n",
       "      <td>3.329065</td>\n",
       "      <td>3.404725</td>\n",
       "      <td>3.329065</td>\n",
       "      <td>3.397159</td>\n",
       "      <td>89980</td>\n",
       "      <td>0.0</td>\n",
       "      <td>0.0</td>\n",
       "    </tr>\n",
       "    <tr>\n",
       "      <th>...</th>\n",
       "      <td>...</td>\n",
       "      <td>...</td>\n",
       "      <td>...</td>\n",
       "      <td>...</td>\n",
       "      <td>...</td>\n",
       "      <td>...</td>\n",
       "      <td>...</td>\n",
       "      <td>...</td>\n",
       "    </tr>\n",
       "    <tr>\n",
       "      <th>4773</th>\n",
       "      <td>2022-03-24</td>\n",
       "      <td>154.000000</td>\n",
       "      <td>155.649994</td>\n",
       "      <td>153.500000</td>\n",
       "      <td>154.199997</td>\n",
       "      <td>1288337</td>\n",
       "      <td>0.0</td>\n",
       "      <td>0.0</td>\n",
       "    </tr>\n",
       "    <tr>\n",
       "      <th>4774</th>\n",
       "      <td>2022-03-25</td>\n",
       "      <td>156.949997</td>\n",
       "      <td>156.949997</td>\n",
       "      <td>153.000000</td>\n",
       "      <td>153.449997</td>\n",
       "      <td>3175129</td>\n",
       "      <td>0.0</td>\n",
       "      <td>0.0</td>\n",
       "    </tr>\n",
       "    <tr>\n",
       "      <th>4775</th>\n",
       "      <td>2022-03-28</td>\n",
       "      <td>153.250000</td>\n",
       "      <td>154.350006</td>\n",
       "      <td>150.449997</td>\n",
       "      <td>151.850006</td>\n",
       "      <td>2231228</td>\n",
       "      <td>0.0</td>\n",
       "      <td>0.0</td>\n",
       "    </tr>\n",
       "    <tr>\n",
       "      <th>4776</th>\n",
       "      <td>2022-03-29</td>\n",
       "      <td>152.199997</td>\n",
       "      <td>153.550003</td>\n",
       "      <td>151.199997</td>\n",
       "      <td>151.449997</td>\n",
       "      <td>3796038</td>\n",
       "      <td>0.0</td>\n",
       "      <td>0.0</td>\n",
       "    </tr>\n",
       "    <tr>\n",
       "      <th>4777</th>\n",
       "      <td>2022-03-30</td>\n",
       "      <td>152.800003</td>\n",
       "      <td>154.000000</td>\n",
       "      <td>151.899994</td>\n",
       "      <td>152.500000</td>\n",
       "      <td>2040777</td>\n",
       "      <td>0.0</td>\n",
       "      <td>0.0</td>\n",
       "    </tr>\n",
       "  </tbody>\n",
       "</table>\n",
       "<p>4778 rows × 8 columns</p>\n",
       "</div>"
      ],
      "text/plain": [
       "            Date        Open        High         Low       Close   Volume  \\\n",
       "0     2003-01-01    3.404726    3.404726    3.374462    3.382028    27940   \n",
       "1     2003-01-02    3.404727    3.427425    3.382028    3.404727    44560   \n",
       "2     2003-01-03    3.351764    3.419859    3.351764    3.404727    34800   \n",
       "3     2003-01-06    3.389595    3.419859    3.389595    3.404727    71560   \n",
       "4     2003-01-07    3.329065    3.404725    3.329065    3.397159    89980   \n",
       "...          ...         ...         ...         ...         ...      ...   \n",
       "4773  2022-03-24  154.000000  155.649994  153.500000  154.199997  1288337   \n",
       "4774  2022-03-25  156.949997  156.949997  153.000000  153.449997  3175129   \n",
       "4775  2022-03-28  153.250000  154.350006  150.449997  151.850006  2231228   \n",
       "4776  2022-03-29  152.199997  153.550003  151.199997  151.449997  3796038   \n",
       "4777  2022-03-30  152.800003  154.000000  151.899994  152.500000  2040777   \n",
       "\n",
       "      Dividends  Stock Splits  \n",
       "0           0.0           0.0  \n",
       "1           0.0           0.0  \n",
       "2           0.0           0.0  \n",
       "3           0.0           0.0  \n",
       "4           0.0           0.0  \n",
       "...         ...           ...  \n",
       "4773        0.0           0.0  \n",
       "4774        0.0           0.0  \n",
       "4775        0.0           0.0  \n",
       "4776        0.0           0.0  \n",
       "4777        0.0           0.0  \n",
       "\n",
       "[4778 rows x 8 columns]"
      ]
     },
     "execution_count": 19,
     "metadata": {},
     "output_type": "execute_result"
    }
   ],
   "source": [
    "import pandas as pd\n",
    "data1=pd.read_csv('EXIDEIND.csv')\n",
    "data1"
   ]
  },
  {
   "cell_type": "code",
   "execution_count": 22,
   "id": "f8655890",
   "metadata": {},
   "outputs": [
    {
     "data": {
      "text/plain": [
       "pandas.core.frame.DataFrame"
      ]
     },
     "execution_count": 22,
     "metadata": {},
     "output_type": "execute_result"
    }
   ],
   "source": [
    "data1=data1[['Close']]\n",
    "type(data1)"
   ]
  },
  {
   "cell_type": "code",
   "execution_count": 3,
   "id": "8b54d3cb",
   "metadata": {},
   "outputs": [],
   "source": [
    "data=data[['Close']]\n",
    "data=data.astype(int)\n",
    "df=data"
   ]
  },
  {
   "cell_type": "code",
   "execution_count": 4,
   "id": "3230d7be",
   "metadata": {},
   "outputs": [],
   "source": [
    "df.rename(columns={'Close':'close'}, inplace=True)"
   ]
  },
  {
   "cell_type": "code",
   "execution_count": 5,
   "id": "8f907006",
   "metadata": {},
   "outputs": [],
   "source": [
    "data=df.close.resample('M').mean()"
   ]
  },
  {
   "cell_type": "code",
   "execution_count": 6,
   "id": "4769ce23",
   "metadata": {},
   "outputs": [],
   "source": [
    "data=pd.DataFrame(data)"
   ]
  },
  {
   "cell_type": "code",
   "execution_count": 7,
   "id": "f0839faa",
   "metadata": {},
   "outputs": [
    {
     "data": {
      "text/html": [
       "<div>\n",
       "<style scoped>\n",
       "    .dataframe tbody tr th:only-of-type {\n",
       "        vertical-align: middle;\n",
       "    }\n",
       "\n",
       "    .dataframe tbody tr th {\n",
       "        vertical-align: top;\n",
       "    }\n",
       "\n",
       "    .dataframe thead th {\n",
       "        text-align: right;\n",
       "    }\n",
       "</style>\n",
       "<table border=\"1\" class=\"dataframe\">\n",
       "  <thead>\n",
       "    <tr style=\"text-align: right;\">\n",
       "      <th></th>\n",
       "      <th>close</th>\n",
       "    </tr>\n",
       "    <tr>\n",
       "      <th>Date</th>\n",
       "      <th></th>\n",
       "    </tr>\n",
       "  </thead>\n",
       "  <tbody>\n",
       "    <tr>\n",
       "      <th>2003-01-31</th>\n",
       "      <td>3</td>\n",
       "    </tr>\n",
       "    <tr>\n",
       "      <th>2003-02-28</th>\n",
       "      <td>3</td>\n",
       "    </tr>\n",
       "    <tr>\n",
       "      <th>2003-03-31</th>\n",
       "      <td>2</td>\n",
       "    </tr>\n",
       "    <tr>\n",
       "      <th>2003-04-30</th>\n",
       "      <td>2</td>\n",
       "    </tr>\n",
       "    <tr>\n",
       "      <th>2003-05-31</th>\n",
       "      <td>3</td>\n",
       "    </tr>\n",
       "    <tr>\n",
       "      <th>...</th>\n",
       "      <td>...</td>\n",
       "    </tr>\n",
       "    <tr>\n",
       "      <th>2019-11-30</th>\n",
       "      <td>182</td>\n",
       "    </tr>\n",
       "    <tr>\n",
       "      <th>2019-12-31</th>\n",
       "      <td>176</td>\n",
       "    </tr>\n",
       "    <tr>\n",
       "      <th>2020-01-31</th>\n",
       "      <td>185</td>\n",
       "    </tr>\n",
       "    <tr>\n",
       "      <th>2020-02-29</th>\n",
       "      <td>171</td>\n",
       "    </tr>\n",
       "    <tr>\n",
       "      <th>2020-03-31</th>\n",
       "      <td>140</td>\n",
       "    </tr>\n",
       "  </tbody>\n",
       "</table>\n",
       "<p>207 rows × 1 columns</p>\n",
       "</div>"
      ],
      "text/plain": [
       "            close\n",
       "Date             \n",
       "2003-01-31      3\n",
       "2003-02-28      3\n",
       "2003-03-31      2\n",
       "2003-04-30      2\n",
       "2003-05-31      3\n",
       "...           ...\n",
       "2019-11-30    182\n",
       "2019-12-31    176\n",
       "2020-01-31    185\n",
       "2020-02-29    171\n",
       "2020-03-31    140\n",
       "\n",
       "[207 rows x 1 columns]"
      ]
     },
     "execution_count": 7,
     "metadata": {},
     "output_type": "execute_result"
    }
   ],
   "source": [
    "\n",
    "data=data.astype(int)\n",
    "data"
   ]
  },
  {
   "cell_type": "code",
   "execution_count": 8,
   "id": "ef006d96",
   "metadata": {},
   "outputs": [],
   "source": [
    "# data.to_csv('EXIDEIND_close.csv')"
   ]
  },
  {
   "cell_type": "code",
   "execution_count": null,
   "id": "96703d2d",
   "metadata": {},
   "outputs": [],
   "source": []
  },
  {
   "cell_type": "code",
   "execution_count": 9,
   "id": "08db67da",
   "metadata": {},
   "outputs": [
    {
     "data": {
      "text/html": [
       "<div>\n",
       "<style scoped>\n",
       "    .dataframe tbody tr th:only-of-type {\n",
       "        vertical-align: middle;\n",
       "    }\n",
       "\n",
       "    .dataframe tbody tr th {\n",
       "        vertical-align: top;\n",
       "    }\n",
       "\n",
       "    .dataframe thead th {\n",
       "        text-align: right;\n",
       "    }\n",
       "</style>\n",
       "<table border=\"1\" class=\"dataframe\">\n",
       "  <thead>\n",
       "    <tr style=\"text-align: right;\">\n",
       "      <th></th>\n",
       "      <th>close</th>\n",
       "    </tr>\n",
       "    <tr>\n",
       "      <th>Date</th>\n",
       "      <th></th>\n",
       "    </tr>\n",
       "  </thead>\n",
       "  <tbody>\n",
       "    <tr>\n",
       "      <th>2003-01-31</th>\n",
       "      <td>3</td>\n",
       "    </tr>\n",
       "    <tr>\n",
       "      <th>2003-02-28</th>\n",
       "      <td>3</td>\n",
       "    </tr>\n",
       "    <tr>\n",
       "      <th>2003-03-31</th>\n",
       "      <td>2</td>\n",
       "    </tr>\n",
       "    <tr>\n",
       "      <th>2003-04-30</th>\n",
       "      <td>2</td>\n",
       "    </tr>\n",
       "    <tr>\n",
       "      <th>2003-05-31</th>\n",
       "      <td>3</td>\n",
       "    </tr>\n",
       "  </tbody>\n",
       "</table>\n",
       "</div>"
      ],
      "text/plain": [
       "            close\n",
       "Date             \n",
       "2003-01-31      3\n",
       "2003-02-28      3\n",
       "2003-03-31      2\n",
       "2003-04-30      2\n",
       "2003-05-31      3"
      ]
     },
     "execution_count": 9,
     "metadata": {},
     "output_type": "execute_result"
    }
   ],
   "source": [
    "data=pd.read_csv('EXIDEIND_close.csv',index_col=0,parse_dates=True)\n",
    "\n",
    "data.head()"
   ]
  },
  {
   "cell_type": "code",
   "execution_count": 10,
   "id": "11433cc8",
   "metadata": {},
   "outputs": [
    {
     "data": {
      "text/plain": [
       "<AxesSubplot:xlabel='Date'>"
      ]
     },
     "execution_count": 10,
     "metadata": {},
     "output_type": "execute_result"
    },
    {
     "data": {
      "text/plain": [
       "<Figure size 720x576 with 0 Axes>"
      ]
     },
     "metadata": {},
     "output_type": "display_data"
    },
    {
     "data": {
      "image/png": "[encoded data removed]",
      "text/plain": [
       "<Figure size 432x288 with 1 Axes>"
      ]
     },
     "metadata": {
      "needs_background": "light"
     },
     "output_type": "display_data"
    }
   ],
   "source": [
    "import matplotlib.pyplot as plt\n",
    "plt.figure(figsize=(10,8))\n",
    "data.plot()"
   ]
  },
  {
   "cell_type": "code",
   "execution_count": 11,
   "id": "2cef907b",
   "metadata": {},
   "outputs": [
    {
     "data": {
      "text/plain": [
       "array([[<AxesSubplot:title={'center':'close'}>]], dtype=object)"
      ]
     },
     "execution_count": 11,
     "metadata": {},
     "output_type": "execute_result"
    },
    {
     "data": {
      "image/png": "[encoded data removed]",
      "text/plain": [
       "<Figure size 432x288 with 1 Axes>"
      ]
     },
     "metadata": {
      "needs_background": "light"
     },
     "output_type": "display_data"
    }
   ],
   "source": [
    "data.hist()"
   ]
  },
  {
   "cell_type": "code",
   "execution_count": 12,
   "id": "1f255fd8",
   "metadata": {},
   "outputs": [
    {
     "data": {
      "text/plain": [
       "<AxesSubplot:ylabel='Density'>"
      ]
     },
     "execution_count": 12,
     "metadata": {},
     "output_type": "execute_result"
    },
    {
     "data": {
      "image/png": "[encoded data removed]",
      "text/plain": [
       "<Figure size 432x288 with 1 Axes>"
      ]
     },
     "metadata": {
      "needs_background": "light"
     },
     "output_type": "display_data"
    }
   ],
   "source": [
    "data.plot(kind='kde')"
   ]
  },
  {
   "cell_type": "code",
   "execution_count": 13,
   "id": "52304ffc",
   "metadata": {},
   "outputs": [
    {
     "data": {
      "text/plain": [
       "<Figure size 1440x792 with 0 Axes>"
      ]
     },
     "metadata": {},
     "output_type": "display_data"
    },
    {
     "data": {
      "image/png": "[encoded data removed]",
      "text/plain": [
       "<Figure size 432x288 with 4 Axes>"
      ]
     },
     "metadata": {
      "needs_background": "light"
     },
     "output_type": "display_data"
    }
   ],
   "source": [
    "from statsmodels.tsa.seasonal import seasonal_decompose\n",
    "plt.figure(figsize=(20,11))\n",
    "decompose = seasonal_decompose(data['close'],period=12,model='multiplicative')\n",
    "\n",
    "trend = decompose.trend\n",
    "seasonal = decompose.seasonal\n",
    "residual = decompose.resid\n",
    "\n",
    "decompose.plot()\n",
    "plt.show()"
   ]
  },
  {
   "cell_type": "code",
   "execution_count": 14,
   "id": "89b09c7b",
   "metadata": {},
   "outputs": [
    {
     "data": {
      "text/plain": [
       "close    0\n",
       "dtype: int64"
      ]
     },
     "execution_count": 14,
     "metadata": {},
     "output_type": "execute_result"
    }
   ],
   "source": [
    "data.isnull().sum()"
   ]
  },
  {
   "cell_type": "code",
   "execution_count": 15,
   "id": "5eaec1cf",
   "metadata": {},
   "outputs": [
    {
     "data": {
      "text/plain": [
       "(207, 1)"
      ]
     },
     "execution_count": 15,
     "metadata": {},
     "output_type": "execute_result"
    }
   ],
   "source": [
    "data.shape"
   ]
  },
  {
   "cell_type": "code",
   "execution_count": 16,
   "id": "6efdb333",
   "metadata": {},
   "outputs": [],
   "source": [
    "import numpy as np\n",
    "data[\"t\"] = np.arange(1,208)\n",
    "data[\"log_close\"] = np.log(data['close'])\n",
    "data[\"t_squared\"] = data[\"t\"]*data[\"t\"]\n"
   ]
  },
  {
   "cell_type": "code",
   "execution_count": 17,
   "id": "3cf0d969",
   "metadata": {},
   "outputs": [
    {
     "data": {
      "text/html": [
       "<div>\n",
       "<style scoped>\n",
       "    .dataframe tbody tr th:only-of-type {\n",
       "        vertical-align: middle;\n",
       "    }\n",
       "\n",
       "    .dataframe tbody tr th {\n",
       "        vertical-align: top;\n",
       "    }\n",
       "\n",
       "    .dataframe thead th {\n",
       "        text-align: right;\n",
       "    }\n",
       "</style>\n",
       "<table border=\"1\" class=\"dataframe\">\n",
       "  <thead>\n",
       "    <tr style=\"text-align: right;\">\n",
       "      <th></th>\n",
       "      <th>close</th>\n",
       "      <th>t</th>\n",
       "      <th>log_close</th>\n",
       "      <th>t_squared</th>\n",
       "    </tr>\n",
       "    <tr>\n",
       "      <th>Date</th>\n",
       "      <th></th>\n",
       "      <th></th>\n",
       "      <th></th>\n",
       "      <th></th>\n",
       "    </tr>\n",
       "  </thead>\n",
       "  <tbody>\n",
       "    <tr>\n",
       "      <th>2003-01-31</th>\n",
       "      <td>3</td>\n",
       "      <td>1</td>\n",
       "      <td>1.098612</td>\n",
       "      <td>1</td>\n",
       "    </tr>\n",
       "  </tbody>\n",
       "</table>\n",
       "</div>"
      ],
      "text/plain": [
       "            close  t  log_close  t_squared\n",
       "Date                                      \n",
       "2003-01-31      3  1   1.098612          1"
      ]
     },
     "execution_count": 17,
     "metadata": {},
     "output_type": "execute_result"
    }
   ],
   "source": [
    "data.iloc[0:1,:]"
   ]
  },
  {
   "cell_type": "code",
   "execution_count": 18,
   "id": "cce0152d",
   "metadata": {},
   "outputs": [],
   "source": [
    "data['date']=pd.to_datetime(data.index,format='%Y-%m')\n",
    "data['month']=data.date.dt.strftime('%b')\n",
    "data['year']=data['date'].dt.strftime('%Y')"
   ]
  },
  {
   "cell_type": "code",
   "execution_count": 19,
   "id": "a194c42e",
   "metadata": {},
   "outputs": [
    {
     "data": {
      "text/html": [
       "<div>\n",
       "<style scoped>\n",
       "    .dataframe tbody tr th:only-of-type {\n",
       "        vertical-align: middle;\n",
       "    }\n",
       "\n",
       "    .dataframe tbody tr th {\n",
       "        vertical-align: top;\n",
       "    }\n",
       "\n",
       "    .dataframe thead th {\n",
       "        text-align: right;\n",
       "    }\n",
       "</style>\n",
       "<table border=\"1\" class=\"dataframe\">\n",
       "  <thead>\n",
       "    <tr style=\"text-align: right;\">\n",
       "      <th></th>\n",
       "      <th>close</th>\n",
       "      <th>t</th>\n",
       "      <th>log_close</th>\n",
       "      <th>t_squared</th>\n",
       "      <th>date</th>\n",
       "      <th>month</th>\n",
       "      <th>year</th>\n",
       "    </tr>\n",
       "    <tr>\n",
       "      <th>Date</th>\n",
       "      <th></th>\n",
       "      <th></th>\n",
       "      <th></th>\n",
       "      <th></th>\n",
       "      <th></th>\n",
       "      <th></th>\n",
       "      <th></th>\n",
       "    </tr>\n",
       "  </thead>\n",
       "  <tbody>\n",
       "    <tr>\n",
       "      <th>2003-01-31</th>\n",
       "      <td>3</td>\n",
       "      <td>1</td>\n",
       "      <td>1.098612</td>\n",
       "      <td>1</td>\n",
       "      <td>2003-01-31</td>\n",
       "      <td>Jan</td>\n",
       "      <td>2003</td>\n",
       "    </tr>\n",
       "    <tr>\n",
       "      <th>2003-02-28</th>\n",
       "      <td>3</td>\n",
       "      <td>2</td>\n",
       "      <td>1.098612</td>\n",
       "      <td>4</td>\n",
       "      <td>2003-02-28</td>\n",
       "      <td>Feb</td>\n",
       "      <td>2003</td>\n",
       "    </tr>\n",
       "    <tr>\n",
       "      <th>2003-03-31</th>\n",
       "      <td>2</td>\n",
       "      <td>3</td>\n",
       "      <td>0.693147</td>\n",
       "      <td>9</td>\n",
       "      <td>2003-03-31</td>\n",
       "      <td>Mar</td>\n",
       "      <td>2003</td>\n",
       "    </tr>\n",
       "    <tr>\n",
       "      <th>2003-04-30</th>\n",
       "      <td>2</td>\n",
       "      <td>4</td>\n",
       "      <td>0.693147</td>\n",
       "      <td>16</td>\n",
       "      <td>2003-04-30</td>\n",
       "      <td>Apr</td>\n",
       "      <td>2003</td>\n",
       "    </tr>\n",
       "    <tr>\n",
       "      <th>2003-05-31</th>\n",
       "      <td>3</td>\n",
       "      <td>5</td>\n",
       "      <td>1.098612</td>\n",
       "      <td>25</td>\n",
       "      <td>2003-05-31</td>\n",
       "      <td>May</td>\n",
       "      <td>2003</td>\n",
       "    </tr>\n",
       "    <tr>\n",
       "      <th>...</th>\n",
       "      <td>...</td>\n",
       "      <td>...</td>\n",
       "      <td>...</td>\n",
       "      <td>...</td>\n",
       "      <td>...</td>\n",
       "      <td>...</td>\n",
       "      <td>...</td>\n",
       "    </tr>\n",
       "    <tr>\n",
       "      <th>2019-11-30</th>\n",
       "      <td>182</td>\n",
       "      <td>203</td>\n",
       "      <td>5.204007</td>\n",
       "      <td>41209</td>\n",
       "      <td>2019-11-30</td>\n",
       "      <td>Nov</td>\n",
       "      <td>2019</td>\n",
       "    </tr>\n",
       "    <tr>\n",
       "      <th>2019-12-31</th>\n",
       "      <td>176</td>\n",
       "      <td>204</td>\n",
       "      <td>5.170484</td>\n",
       "      <td>41616</td>\n",
       "      <td>2019-12-31</td>\n",
       "      <td>Dec</td>\n",
       "      <td>2019</td>\n",
       "    </tr>\n",
       "    <tr>\n",
       "      <th>2020-01-31</th>\n",
       "      <td>185</td>\n",
       "      <td>205</td>\n",
       "      <td>5.220356</td>\n",
       "      <td>42025</td>\n",
       "      <td>2020-01-31</td>\n",
       "      <td>Jan</td>\n",
       "      <td>2020</td>\n",
       "    </tr>\n",
       "    <tr>\n",
       "      <th>2020-02-29</th>\n",
       "      <td>171</td>\n",
       "      <td>206</td>\n",
       "      <td>5.141664</td>\n",
       "      <td>42436</td>\n",
       "      <td>2020-02-29</td>\n",
       "      <td>Feb</td>\n",
       "      <td>2020</td>\n",
       "    </tr>\n",
       "    <tr>\n",
       "      <th>2020-03-31</th>\n",
       "      <td>140</td>\n",
       "      <td>207</td>\n",
       "      <td>4.941642</td>\n",
       "      <td>42849</td>\n",
       "      <td>2020-03-31</td>\n",
       "      <td>Mar</td>\n",
       "      <td>2020</td>\n",
       "    </tr>\n",
       "  </tbody>\n",
       "</table>\n",
       "<p>207 rows × 7 columns</p>\n",
       "</div>"
      ],
      "text/plain": [
       "            close    t  log_close  t_squared       date month  year\n",
       "Date                                                               \n",
       "2003-01-31      3    1   1.098612          1 2003-01-31   Jan  2003\n",
       "2003-02-28      3    2   1.098612          4 2003-02-28   Feb  2003\n",
       "2003-03-31      2    3   0.693147          9 2003-03-31   Mar  2003\n",
       "2003-04-30      2    4   0.693147         16 2003-04-30   Apr  2003\n",
       "2003-05-31      3    5   1.098612         25 2003-05-31   May  2003\n",
       "...           ...  ...        ...        ...        ...   ...   ...\n",
       "2019-11-30    182  203   5.204007      41209 2019-11-30   Nov  2019\n",
       "2019-12-31    176  204   5.170484      41616 2019-12-31   Dec  2019\n",
       "2020-01-31    185  205   5.220356      42025 2020-01-31   Jan  2020\n",
       "2020-02-29    171  206   5.141664      42436 2020-02-29   Feb  2020\n",
       "2020-03-31    140  207   4.941642      42849 2020-03-31   Mar  2020\n",
       "\n",
       "[207 rows x 7 columns]"
      ]
     },
     "execution_count": 19,
     "metadata": {},
     "output_type": "execute_result"
    }
   ],
   "source": [
    "data"
   ]
  },
  {
   "cell_type": "code",
   "execution_count": 20,
   "id": "25a31ca3",
   "metadata": {},
   "outputs": [],
   "source": [
    "dummies=pd.get_dummies(data['month'])# do not run dummiies variable separately, if you run then to many columns will be created\n",
    "data=pd.concat([data,dummies],axis=1)\n",
    "# data.to_csv('ExideInd_all.csv', header=True, index=True)"
   ]
  },
  {
   "cell_type": "code",
   "execution_count": 21,
   "id": "20fd94d0",
   "metadata": {},
   "outputs": [
    {
     "data": {
      "text/html": [
       "<div>\n",
       "<style scoped>\n",
       "    .dataframe tbody tr th:only-of-type {\n",
       "        vertical-align: middle;\n",
       "    }\n",
       "\n",
       "    .dataframe tbody tr th {\n",
       "        vertical-align: top;\n",
       "    }\n",
       "\n",
       "    .dataframe thead th {\n",
       "        text-align: right;\n",
       "    }\n",
       "</style>\n",
       "<table border=\"1\" class=\"dataframe\">\n",
       "  <thead>\n",
       "    <tr style=\"text-align: right;\">\n",
       "      <th></th>\n",
       "      <th>close</th>\n",
       "      <th>t</th>\n",
       "      <th>log_close</th>\n",
       "      <th>t_squared</th>\n",
       "      <th>date</th>\n",
       "      <th>month</th>\n",
       "      <th>year</th>\n",
       "      <th>Apr</th>\n",
       "      <th>Aug</th>\n",
       "      <th>Dec</th>\n",
       "      <th>Feb</th>\n",
       "      <th>Jan</th>\n",
       "      <th>Jul</th>\n",
       "      <th>Jun</th>\n",
       "      <th>Mar</th>\n",
       "      <th>May</th>\n",
       "      <th>Nov</th>\n",
       "      <th>Oct</th>\n",
       "      <th>Sep</th>\n",
       "    </tr>\n",
       "    <tr>\n",
       "      <th>Date</th>\n",
       "      <th></th>\n",
       "      <th></th>\n",
       "      <th></th>\n",
       "      <th></th>\n",
       "      <th></th>\n",
       "      <th></th>\n",
       "      <th></th>\n",
       "      <th></th>\n",
       "      <th></th>\n",
       "      <th></th>\n",
       "      <th></th>\n",
       "      <th></th>\n",
       "      <th></th>\n",
       "      <th></th>\n",
       "      <th></th>\n",
       "      <th></th>\n",
       "      <th></th>\n",
       "      <th></th>\n",
       "      <th></th>\n",
       "    </tr>\n",
       "  </thead>\n",
       "  <tbody>\n",
       "    <tr>\n",
       "      <th>2003-01-31</th>\n",
       "      <td>3</td>\n",
       "      <td>1</td>\n",
       "      <td>1.098612</td>\n",
       "      <td>1</td>\n",
       "      <td>2003-01-31</td>\n",
       "      <td>Jan</td>\n",
       "      <td>2003</td>\n",
       "      <td>0</td>\n",
       "      <td>0</td>\n",
       "      <td>0</td>\n",
       "      <td>0</td>\n",
       "      <td>1</td>\n",
       "      <td>0</td>\n",
       "      <td>0</td>\n",
       "      <td>0</td>\n",
       "      <td>0</td>\n",
       "      <td>0</td>\n",
       "      <td>0</td>\n",
       "      <td>0</td>\n",
       "    </tr>\n",
       "    <tr>\n",
       "      <th>2003-02-28</th>\n",
       "      <td>3</td>\n",
       "      <td>2</td>\n",
       "      <td>1.098612</td>\n",
       "      <td>4</td>\n",
       "      <td>2003-02-28</td>\n",
       "      <td>Feb</td>\n",
       "      <td>2003</td>\n",
       "      <td>0</td>\n",
       "      <td>0</td>\n",
       "      <td>0</td>\n",
       "      <td>1</td>\n",
       "      <td>0</td>\n",
       "      <td>0</td>\n",
       "      <td>0</td>\n",
       "      <td>0</td>\n",
       "      <td>0</td>\n",
       "      <td>0</td>\n",
       "      <td>0</td>\n",
       "      <td>0</td>\n",
       "    </tr>\n",
       "    <tr>\n",
       "      <th>2003-03-31</th>\n",
       "      <td>2</td>\n",
       "      <td>3</td>\n",
       "      <td>0.693147</td>\n",
       "      <td>9</td>\n",
       "      <td>2003-03-31</td>\n",
       "      <td>Mar</td>\n",
       "      <td>2003</td>\n",
       "      <td>0</td>\n",
       "      <td>0</td>\n",
       "      <td>0</td>\n",
       "      <td>0</td>\n",
       "      <td>0</td>\n",
       "      <td>0</td>\n",
       "      <td>0</td>\n",
       "      <td>1</td>\n",
       "      <td>0</td>\n",
       "      <td>0</td>\n",
       "      <td>0</td>\n",
       "      <td>0</td>\n",
       "    </tr>\n",
       "  </tbody>\n",
       "</table>\n",
       "</div>"
      ],
      "text/plain": [
       "            close  t  log_close  t_squared        date month  year  Apr  Aug  \\\n",
       "Date                                                                           \n",
       "2003-01-31      3  1   1.098612          1  2003-01-31   Jan  2003    0    0   \n",
       "2003-02-28      3  2   1.098612          4  2003-02-28   Feb  2003    0    0   \n",
       "2003-03-31      2  3   0.693147          9  2003-03-31   Mar  2003    0    0   \n",
       "\n",
       "            Dec  Feb  Jan  Jul  Jun  Mar  May  Nov  Oct  Sep  \n",
       "Date                                                          \n",
       "2003-01-31    0    0    1    0    0    0    0    0    0    0  \n",
       "2003-02-28    0    1    0    0    0    0    0    0    0    0  \n",
       "2003-03-31    0    0    0    0    0    1    0    0    0    0  "
      ]
     },
     "execution_count": 21,
     "metadata": {},
     "output_type": "execute_result"
    }
   ],
   "source": [
    "data=pd.read_csv('ExideInd_all.csv',index_col=0)\n",
    "data.iloc[0:3,:]\n"
   ]
  },
  {
   "cell_type": "code",
   "execution_count": 22,
   "id": "92bff2cc",
   "metadata": {},
   "outputs": [],
   "source": [
    "data_pivot_month=pd.pivot_table(data=data,values='close',index='year',columns='month',fill_value=0)"
   ]
  },
  {
   "cell_type": "code",
   "execution_count": 23,
   "id": "1191519f",
   "metadata": {},
   "outputs": [
    {
     "data": {
      "text/plain": [
       "<AxesSubplot:xlabel='month', ylabel='year'>"
      ]
     },
     "execution_count": 23,
     "metadata": {},
     "output_type": "execute_result"
    },
    {
     "data": {
      "image/png": "[encoded data removed]",
      "text/plain": [
       "<Figure size 1440x576 with 2 Axes>"
      ]
     },
     "metadata": {
      "needs_background": "light"
     },
     "output_type": "display_data"
    }
   ],
   "source": [
    "import seaborn as sns\n",
    "plt.figure(figsize=(20,8))\n",
    "sns.heatmap(data_pivot_month,annot=True,fmt=\"g\") "
   ]
  },
  {
   "cell_type": "code",
   "execution_count": 24,
   "id": "ce8ee9a7",
   "metadata": {},
   "outputs": [
    {
     "data": {
      "text/plain": [
       "<AxesSubplot:xlabel='year', ylabel='close'>"
      ]
     },
     "execution_count": 24,
     "metadata": {},
     "output_type": "execute_result"
    },
    {
     "data": {
      "image/png": "[encoded data removed]",
      "text/plain": [
       "<Figure size 864x720 with 2 Axes>"
      ]
     },
     "metadata": {
      "needs_background": "light"
     },
     "output_type": "display_data"
    }
   ],
   "source": [
    "import matplotlib.pyplot as plt\n",
    "plt.figure(figsize=(12,10))\n",
    "plt.subplot(211)\n",
    "sns.boxplot(x='month',y='close',data=data)\n",
    "plt.subplot(212)\n",
    "sns.boxplot(x='year',y='close',data=data)"
   ]
  },
  {
   "cell_type": "code",
   "execution_count": 25,
   "id": "903a811b",
   "metadata": {},
   "outputs": [
    {
     "data": {
      "text/plain": [
       "<AxesSubplot:xlabel='month', ylabel='close'>"
      ]
     },
     "execution_count": 25,
     "metadata": {},
     "output_type": "execute_result"
    },
    {
     "data": {
      "image/png": "[encoded data removed]",
      "text/plain": [
       "<Figure size 864x216 with 1 Axes>"
      ]
     },
     "metadata": {
      "needs_background": "light"
     },
     "output_type": "display_data"
    }
   ],
   "source": [
    "plt.figure(figsize=(12,3))\n",
    "sns.lineplot(x='month',y='close',data=data)"
   ]
  },
  {
   "cell_type": "code",
   "execution_count": 26,
   "id": "2966e475",
   "metadata": {},
   "outputs": [
    {
     "data": {
      "text/plain": [
       "(207, 19)"
      ]
     },
     "execution_count": 26,
     "metadata": {},
     "output_type": "execute_result"
    }
   ],
   "source": [
    "data.shape"
   ]
  },
  {
   "cell_type": "code",
   "execution_count": 27,
   "id": "4ac85960",
   "metadata": {},
   "outputs": [],
   "source": [
    "train=data.head(180)\n",
    "test=data.tail(27)"
   ]
  },
  {
   "cell_type": "code",
   "execution_count": 28,
   "id": "bd2ce215",
   "metadata": {},
   "outputs": [
    {
     "data": {
      "text/plain": [
       "39.25652811899211"
      ]
     },
     "execution_count": 28,
     "metadata": {},
     "output_type": "execute_result"
    }
   ],
   "source": [
    "import statsmodels.formula.api as smf\n",
    "import numpy as np\n",
    "linear_model=smf.ols('close~t',data=train).fit()\n",
    "pred_linear=linear_model.predict(test['t'])\n",
    "rmse_linear=np.sqrt(np.mean((np.array(test['close'])-np.array(pred_linear))**2))\n",
    "rmse_linear"
   ]
  },
  {
   "cell_type": "code",
   "execution_count": 29,
   "id": "e4fb30ad",
   "metadata": {},
   "outputs": [
    {
     "data": {
      "text/plain": [
       "251.8310854632288"
      ]
     },
     "execution_count": 29,
     "metadata": {},
     "output_type": "execute_result"
    }
   ],
   "source": [
    "#Exponential\n",
    "\n",
    "Exp = smf.ols('log_close~t',data=train).fit()\n",
    "pred_Exp = Exp.predict(test['t'])\n",
    "rmse_Exp = np.sqrt(np.mean((np.array(test['close'])-np.array(np.exp(pred_Exp)))**2))\n",
    "rmse_Exp"
   ]
  },
  {
   "cell_type": "code",
   "execution_count": 30,
   "id": "1853cacf",
   "metadata": {},
   "outputs": [
    {
     "data": {
      "text/plain": [
       "39.13319580050381"
      ]
     },
     "execution_count": 30,
     "metadata": {},
     "output_type": "execute_result"
    }
   ],
   "source": [
    "Quad = smf.ols('close~t+t_squared',data=train).fit()\n",
    "pred_Quad = Quad.predict(test[[\"t\",\"t_squared\"]])\n",
    "rmse_Quad = np.sqrt(np.mean((np.array(test['close'])-np.array(pred_Quad))**2))\n",
    "rmse_Quad"
   ]
  },
  {
   "cell_type": "code",
   "execution_count": 31,
   "id": "7337735d",
   "metadata": {},
   "outputs": [
    {
     "data": {
      "text/plain": [
       "126.56344202006787"
      ]
     },
     "execution_count": 31,
     "metadata": {},
     "output_type": "execute_result"
    }
   ],
   "source": [
    "#Additive seasonality \n",
    "\n",
    "add_sea = smf.ols('close~Jan+Feb+Mar+Apr+May+Jun+Jul+Aug+Sep+Oct+Nov+Dec',data=train).fit()\n",
    "pred_add_sea = add_sea.predict(test[['Jan','Feb','Mar','Apr','May','Jun','Jul','Aug','Sep','Oct','Nov','Dec']])\n",
    "rmse_add_sea = np.sqrt(np.mean((np.array(test['close'])-np.array(pred_add_sea))**2))\n",
    "rmse_add_sea"
   ]
  },
  {
   "cell_type": "code",
   "execution_count": 32,
   "id": "9101c481",
   "metadata": {},
   "outputs": [
    {
     "data": {
      "text/plain": [
       "38.87295251569781"
      ]
     },
     "execution_count": 32,
     "metadata": {},
     "output_type": "execute_result"
    }
   ],
   "source": [
    "#Additive Seasonality Quadratic \n",
    "\n",
    "add_sea_Quad = smf.ols('close~t+t_squared+Jan+Feb+Mar+Apr+May+Jun+Jul+Aug+Sep+Oct+Nov+Dec',data=train).fit()\n",
    "pred_add_sea_quad = add_sea_Quad.predict(test[['Jan','Feb','Mar','Apr','May','Jun','Jul','Aug','Sep','Oct','Nov','Dec','t','t_squared']])\n",
    "rmse_add_sea_quad = np.sqrt(np.mean((np.array(test['close'])-np.array(pred_add_sea_quad))**2))\n",
    "rmse_add_sea_quad"
   ]
  },
  {
   "cell_type": "code",
   "execution_count": 33,
   "id": "65d574e0",
   "metadata": {},
   "outputs": [
    {
     "data": {
      "text/plain": [
       "155.81936813141348"
      ]
     },
     "execution_count": 33,
     "metadata": {},
     "output_type": "execute_result"
    }
   ],
   "source": [
    "##Multiplicative Seasonality\n",
    "\n",
    "Mul_sea = smf.ols('log_close~Jan+Feb+Mar+Apr+May+Jun+Jul+Aug+Sep+Oct+Nov+Dec',data = train).fit()\n",
    "pred_Mult_sea = Mul_sea.predict(test)\n",
    "rmse_Mult_sea = np.sqrt(np.mean((np.array(test['close'])-np.array(np.exp(pred_Mult_sea)))**2))\n",
    "rmse_Mult_sea"
   ]
  },
  {
   "cell_type": "code",
   "execution_count": 34,
   "id": "444e42a0",
   "metadata": {},
   "outputs": [
    {
     "data": {
      "text/plain": [
       "248.8912225286392"
      ]
     },
     "execution_count": 34,
     "metadata": {},
     "output_type": "execute_result"
    }
   ],
   "source": [
    "#Multiplicative Additive Seasonality \n",
    "\n",
    "Mul_Add_sea = smf.ols('log_close~t+Jan+Feb+Mar+Apr+May+Jun+Jul+Aug+Sep+Oct+Nov+Dec',data = train).fit()\n",
    "pred_Mult_add_sea = Mul_Add_sea.predict(test)\n",
    "rmse_Mult_add_sea = np.sqrt(np.mean((np.array(test['close'])-np.array(np.exp(pred_Mult_add_sea)))**2))\n",
    "rmse_Mult_add_sea "
   ]
  },
  {
   "cell_type": "code",
   "execution_count": 35,
   "id": "3981f1d6",
   "metadata": {},
   "outputs": [
    {
     "data": {
      "text/html": [
       "<div>\n",
       "<style scoped>\n",
       "    .dataframe tbody tr th:only-of-type {\n",
       "        vertical-align: middle;\n",
       "    }\n",
       "\n",
       "    .dataframe tbody tr th {\n",
       "        vertical-align: top;\n",
       "    }\n",
       "\n",
       "    .dataframe thead th {\n",
       "        text-align: right;\n",
       "    }\n",
       "</style>\n",
       "<table border=\"1\" class=\"dataframe\">\n",
       "  <thead>\n",
       "    <tr style=\"text-align: right;\">\n",
       "      <th></th>\n",
       "      <th>MODEL</th>\n",
       "      <th>RMSE_Values</th>\n",
       "    </tr>\n",
       "  </thead>\n",
       "  <tbody>\n",
       "    <tr>\n",
       "      <th>4</th>\n",
       "      <td>rmse_add_sea_quad</td>\n",
       "      <td>38.872953</td>\n",
       "    </tr>\n",
       "    <tr>\n",
       "      <th>2</th>\n",
       "      <td>rmse_Quad</td>\n",
       "      <td>39.133196</td>\n",
       "    </tr>\n",
       "    <tr>\n",
       "      <th>0</th>\n",
       "      <td>rmse_linear</td>\n",
       "      <td>39.256528</td>\n",
       "    </tr>\n",
       "    <tr>\n",
       "      <th>3</th>\n",
       "      <td>rmse_add_sea</td>\n",
       "      <td>126.563442</td>\n",
       "    </tr>\n",
       "    <tr>\n",
       "      <th>5</th>\n",
       "      <td>rmse_Mult_sea</td>\n",
       "      <td>155.819368</td>\n",
       "    </tr>\n",
       "    <tr>\n",
       "      <th>6</th>\n",
       "      <td>rmse_Mult_add_sea</td>\n",
       "      <td>248.891223</td>\n",
       "    </tr>\n",
       "    <tr>\n",
       "      <th>1</th>\n",
       "      <td>rmse_Exp</td>\n",
       "      <td>251.831085</td>\n",
       "    </tr>\n",
       "  </tbody>\n",
       "</table>\n",
       "</div>"
      ],
      "text/plain": [
       "               MODEL  RMSE_Values\n",
       "4  rmse_add_sea_quad    38.872953\n",
       "2          rmse_Quad    39.133196\n",
       "0        rmse_linear    39.256528\n",
       "3       rmse_add_sea   126.563442\n",
       "5      rmse_Mult_sea   155.819368\n",
       "6  rmse_Mult_add_sea   248.891223\n",
       "1           rmse_Exp   251.831085"
      ]
     },
     "execution_count": 35,
     "metadata": {},
     "output_type": "execute_result"
    }
   ],
   "source": [
    "#Compare the results \n",
    "\n",
    "df = {\"MODEL\":pd.Series([\"rmse_linear\",\"rmse_Exp\",\"rmse_Quad\",\"rmse_add_sea\",\"rmse_add_sea_quad\",\"rmse_Mult_sea\",\"rmse_Mult_add_sea\"]),\"RMSE_Values\":pd.Series([rmse_linear,rmse_Exp,rmse_Quad,rmse_add_sea,rmse_add_sea_quad,rmse_Mult_sea,rmse_Mult_add_sea])}\n",
    "table_rmse=pd.DataFrame(df)\n",
    "table_rmse.sort_values(['RMSE_Values'])"
   ]
  },
  {
   "cell_type": "markdown",
   "id": "0c2f362c",
   "metadata": {},
   "source": [
    "## Data driven forcasting"
   ]
  },
  {
   "cell_type": "markdown",
   "id": "56cb043f",
   "metadata": {},
   "source": [
    "Moving Average"
   ]
  },
  {
   "cell_type": "code",
   "execution_count": 36,
   "id": "1b205005",
   "metadata": {},
   "outputs": [
    {
     "data": {
      "image/png": "[encoded data removed]",
      "text/plain": [
       "<Figure size 864x288 with 1 Axes>"
      ]
     },
     "metadata": {
      "needs_background": "light"
     },
     "output_type": "display_data"
    }
   ],
   "source": [
    "plt.figure(figsize =(12,4))             #blue-original trend\n",
    "data.close.plot(label ='org')\n",
    "for i in range(2,43,6):\n",
    "    data['close'].rolling(i).mean().plot(label=str(i))\n",
    "plt.legend(loc='best')\n",
    "plt.show()"
   ]
  },
  {
   "cell_type": "code",
   "execution_count": 37,
   "id": "bb812ab2",
   "metadata": {},
   "outputs": [
    {
     "data": {
      "image/png": "[encoded data removed]",
      "text/plain": [
       "<Figure size 432x288 with 4 Axes>"
      ]
     },
     "metadata": {
      "needs_background": "light"
     },
     "output_type": "display_data"
    }
   ],
   "source": [
    "from statsmodels.tsa.seasonal import seasonal_decompose\n",
    "decompose_ts_add = seasonal_decompose(data.close,period=12)\n",
    "decompose_ts_add.plot()\n",
    "plt.show()"
   ]
  },
  {
   "cell_type": "code",
   "execution_count": 38,
   "id": "fd00aeef",
   "metadata": {},
   "outputs": [
    {
     "data": {
      "image/png": "[encoded data removed]",
      "text/plain": [
       "<Figure size 432x288 with 1 Axes>"
      ]
     },
     "metadata": {
      "needs_background": "light"
     },
     "output_type": "display_data"
    },
    {
     "data": {
      "image/png": "[encoded data removed]",
      "text/plain": [
       "<Figure size 432x288 with 1 Axes>"
      ]
     },
     "metadata": {
      "needs_background": "light"
     },
     "output_type": "display_data"
    }
   ],
   "source": [
    "import statsmodels.graphics.tsaplots as tsa_plots\n",
    "tsa_plots.plot_acf(data.close,lags=12)\n",
    "tsa_plots.plot_pacf(data.close,lags=12)\n",
    "plt.show()"
   ]
  },
  {
   "cell_type": "code",
   "execution_count": 39,
   "id": "538ce8fa",
   "metadata": {},
   "outputs": [],
   "source": [
    "# def MAPE(pred,org):\n",
    "#     temp = np.abs((pred-org)/org)*100\n",
    "#     return np.mean(temp)"
   ]
  },
  {
   "cell_type": "code",
   "execution_count": 40,
   "id": "8e39f04c",
   "metadata": {},
   "outputs": [],
   "source": [
    "from statsmodels.tsa.holtwinters import SimpleExpSmoothing # SES\n",
    "from sklearn.metrics import mean_absolute_percentage_error\n",
    " \n"
   ]
  },
  {
   "cell_type": "code",
   "execution_count": 41,
   "id": "536be9dd",
   "metadata": {},
   "outputs": [
    {
     "name": "stderr",
     "output_type": "stream",
     "text": [
      "C:\\Users\\USER\\anaconda3\\lib\\site-packages\\statsmodels\\tsa\\base\\tsa_model.py:524: ValueWarning: No frequency information was provided, so inferred frequency M will be used.\n",
      "  warnings.warn('No frequency information was'\n"
     ]
    },
    {
     "data": {
      "text/plain": [
       "12.926233385528677"
      ]
     },
     "execution_count": 41,
     "metadata": {},
     "output_type": "execute_result"
    }
   ],
   "source": [
    "ses_model = SimpleExpSmoothing(train[\"close\"]).fit(smoothing_level=0.2)\n",
    "pred_ses = ses_model.predict(start = test.index[0],end = test.index[-1])\n",
    "ses_rms=mean_absolute_percentage_error(test['close'],pred_ses)*100\n",
    "ses_rms"
   ]
  },
  {
   "cell_type": "code",
   "execution_count": 42,
   "id": "768c6368",
   "metadata": {},
   "outputs": [
    {
     "name": "stderr",
     "output_type": "stream",
     "text": [
      "C:\\Users\\USER\\anaconda3\\lib\\site-packages\\statsmodels\\tsa\\base\\tsa_model.py:524: ValueWarning: No frequency information was provided, so inferred frequency M will be used.\n",
      "  warnings.warn('No frequency information was'\n"
     ]
    },
    {
     "data": {
      "text/plain": [
       "13.278153910012838"
      ]
     },
     "execution_count": 42,
     "metadata": {},
     "output_type": "execute_result"
    }
   ],
   "source": [
    "from statsmodels.tsa.holtwinters import Holt # Holts Exponential Smoothing\n",
    "# Holt method \n",
    "hw_model = Holt(train[\"close\"]).fit(smoothing_level=0.8, smoothing_slope=0.2)\n",
    "pred_hw = hw_model.predict(start = test.index[0],end = test.index[-1])\n",
    "hw_rms=mean_absolute_percentage_error(test['close'],pred_hw)*100\n",
    "hw_rms"
   ]
  },
  {
   "cell_type": "code",
   "execution_count": 43,
   "id": "c53b0b45",
   "metadata": {},
   "outputs": [
    {
     "name": "stderr",
     "output_type": "stream",
     "text": [
      "C:\\Users\\USER\\anaconda3\\lib\\site-packages\\statsmodels\\tsa\\base\\tsa_model.py:524: ValueWarning: No frequency information was provided, so inferred frequency M will be used.\n",
      "  warnings.warn('No frequency information was'\n"
     ]
    },
    {
     "data": {
      "text/plain": [
       "16.46455688923163"
      ]
     },
     "execution_count": 43,
     "metadata": {},
     "output_type": "execute_result"
    }
   ],
   "source": [
    "from statsmodels.tsa.holtwinters import ExponentialSmoothing\n",
    "hwe_model_add_add = ExponentialSmoothing(train[\"close\"],seasonal=\"add\",trend=\"add\",seasonal_periods=12).fit() #add the trend to the model\n",
    "pred_hwe_add_add = hwe_model_add_add.predict(start = test.index[0],end = test.index[-1])\n",
    "hwe_ma_rms=mean_absolute_percentage_error(test['close'],pred_hwe_add_add)*100\n",
    "hwe_ma_rms"
   ]
  },
  {
   "cell_type": "code",
   "execution_count": 44,
   "id": "a83fdff7",
   "metadata": {},
   "outputs": [
    {
     "name": "stderr",
     "output_type": "stream",
     "text": [
      "C:\\Users\\USER\\anaconda3\\lib\\site-packages\\statsmodels\\tsa\\base\\tsa_model.py:524: ValueWarning: No frequency information was provided, so inferred frequency M will be used.\n",
      "  warnings.warn('No frequency information was'\n",
      "C:\\Users\\USER\\anaconda3\\lib\\site-packages\\statsmodels\\tsa\\holtwinters\\model.py:920: ConvergenceWarning: Optimization failed to converge. Check mle_retvals.\n",
      "  warnings.warn(\n"
     ]
    },
    {
     "data": {
      "text/plain": [
       "19.13943169099849"
      ]
     },
     "execution_count": 44,
     "metadata": {},
     "output_type": "execute_result"
    }
   ],
   "source": [
    "hwe_model_mul_add = ExponentialSmoothing(train[\"close\"],seasonal=\"mul\",trend=\"add\",seasonal_periods=12).fit() \n",
    "pred_hwe_mul_add = hwe_model_mul_add.predict(start = test.index[0],end = test.index[-1])\n",
    "hwe_ma_mul_rms=mean_absolute_percentage_error(test['close'],pred_hwe_mul_add)*100\n",
    "hwe_ma_mul_rms"
   ]
  },
  {
   "cell_type": "code",
   "execution_count": 45,
   "id": "be4c7509",
   "metadata": {},
   "outputs": [
    {
     "name": "stderr",
     "output_type": "stream",
     "text": [
      "C:\\Users\\USER\\anaconda3\\lib\\site-packages\\statsmodels\\tsa\\base\\tsa_model.py:524: ValueWarning: No frequency information was provided, so inferred frequency M will be used.\n",
      "  warnings.warn('No frequency information was'\n"
     ]
    },
    {
     "data": {
      "text/plain": [
       "19.244898263260076"
      ]
     },
     "execution_count": 45,
     "metadata": {},
     "output_type": "execute_result"
    }
   ],
   "source": [
    "#forecast - based on current time,seasonality\n",
    "from statsmodels.tsa.holtwinters import ExponentialSmoothing #three levels of smoothing\n",
    "\n",
    "hwe_model_add_mul = ExponentialSmoothing(train['close'],seasonal='add',trend='mul',seasonal_periods=12).fit() \n",
    "\n",
    "pred_hwe_add_mul = hwe_model_add_mul.predict(start=test.index[0],end = test.index[-1])\n",
    "hwe_ma_add_mul_rms=mean_absolute_percentage_error(test['close'],pred_hwe_add_mul)*100\n",
    "hwe_ma_add_mul_rms"
   ]
  },
  {
   "cell_type": "markdown",
   "id": "935c6b89",
   "metadata": {},
   "source": [
    "ARMA"
   ]
  },
  {
   "cell_type": "code",
   "execution_count": 46,
   "id": "504b9401",
   "metadata": {},
   "outputs": [],
   "source": [
    "# from statsmodels.tsa.arima_model import ARMA\n",
    "\n",
    "# ARMAmodel = ARMA(train['close'],order=(1,0))  #model with AR=1(p) AND MA=0(q)\n",
    "# ARMAmodel_fit=ARMAmodel.fit()\n",
    "\n",
    "\n",
    "# ARMA_pred=ARMAmodel_fit.predict(0,26)\n",
    "# ARMA_pred\n",
    "\n",
    "# arma_rms = mean_absolute_percentage_error(ARMA_pred,test['close'])*100\n",
    "# arma_rms\n"
   ]
  },
  {
   "cell_type": "code",
   "execution_count": 47,
   "id": "f21b4e0f",
   "metadata": {},
   "outputs": [],
   "source": [
    "# separate out a validation dataset\n",
    "split_point = len(data) - 27\n",
    "dataset, validation = data['close'][0:split_point], data['close'][split_point:]"
   ]
  },
  {
   "cell_type": "code",
   "execution_count": 48,
   "id": "238ab7af",
   "metadata": {},
   "outputs": [
    {
     "data": {
      "text/plain": [
       "180"
      ]
     },
     "execution_count": 48,
     "metadata": {},
     "output_type": "execute_result"
    }
   ],
   "source": [
    "split_point\n",
    "# dataset.shape\n",
    "# validation.shape\n",
    "# data.shape"
   ]
  },
  {
   "cell_type": "code",
   "execution_count": 49,
   "id": "4d11b7ca",
   "metadata": {},
   "outputs": [
    {
     "data": {
      "text/plain": [
       "Date\n",
       "2018-01-31    210\n",
       "2018-02-28    196\n",
       "2018-03-31    200\n",
       "2018-04-30    225\n",
       "2018-05-31    239\n",
       "2018-06-30    237\n",
       "2018-07-31    251\n",
       "2018-08-31    270\n",
       "2018-09-30    255\n",
       "2018-10-31    241\n",
       "2018-11-30    238\n",
       "2018-12-31    246\n",
       "2019-01-31    234\n",
       "2019-02-28    203\n",
       "2019-03-31    213\n",
       "2019-04-30    206\n",
       "2019-05-31    200\n",
       "2019-06-30    195\n",
       "2019-07-31    186\n",
       "2019-08-31    170\n",
       "2019-09-30    175\n",
       "2019-10-31    175\n",
       "2019-11-30    182\n",
       "2019-12-31    176\n",
       "2020-01-31    185\n",
       "2020-02-29    171\n",
       "2020-03-31    140\n",
       "Name: close, dtype: int64"
      ]
     },
     "execution_count": 49,
     "metadata": {},
     "output_type": "execute_result"
    }
   ],
   "source": [
    "validation"
   ]
  },
  {
   "cell_type": "code",
   "execution_count": 50,
   "id": "0eb24fdf",
   "metadata": {},
   "outputs": [
    {
     "name": "stdout",
     "output_type": "stream",
     "text": [
      "Dataset 180, Validation 27\n"
     ]
    }
   ],
   "source": [
    "print('Dataset %d, Validation %d' % (len(dataset), len(validation)))\n",
    "dataset.to_csv('dataset.csv', header=False)\n",
    "validation.to_csv('validation.csv', header=False)"
   ]
  },
  {
   "cell_type": "code",
   "execution_count": 51,
   "id": "ac33f206",
   "metadata": {},
   "outputs": [
    {
     "data": {
      "text/plain": [
       "0\n",
       "2003-01-31      3\n",
       "2003-02-28      3\n",
       "2003-03-31      2\n",
       "2003-04-30      2\n",
       "2003-05-31      3\n",
       "             ... \n",
       "2017-08-31    192\n",
       "2017-09-30    198\n",
       "2017-10-31    191\n",
       "2017-11-30    190\n",
       "2017-12-31    197\n",
       "Name: 1, Length: 180, dtype: int64"
      ]
     },
     "execution_count": 51,
     "metadata": {},
     "output_type": "execute_result"
    }
   ],
   "source": [
    "# evaluate a persistence model\n",
    "from pandas import read_csv\n",
    "from sklearn.metrics import mean_squared_error\n",
    "from math import sqrt\n",
    "# load data\n",
    "train = read_csv('dataset.csv', header=None, index_col=0, parse_dates=True, squeeze=True)\n",
    "train"
   ]
  },
  {
   "cell_type": "code",
   "execution_count": 52,
   "id": "ef9aa937",
   "metadata": {},
   "outputs": [],
   "source": [
    "# evaluate an ARIMA model for a given order (p,d,q) and return RMSE\n",
    "def evaluate_arima_model(X, arima_order):\n",
    "# prepare training dataset\n",
    "    X = X.astype('float32')\n",
    "    train_size = int(len(X) * 0.50)\n",
    "    train, test = X[0:train_size], X[train_size:]\n",
    "    history = [x for x in train]\n",
    "# make predictions\n",
    "    predictions = list()\n",
    "    for t in range(len(test)):\n",
    "        model = ARIMA(history, order=arima_order)\n",
    "# model_fit = model.fit(disp=0)\n",
    "        model_fit = model.fit(disp=0)\n",
    "        yhat = model_fit.forecast()[0]\n",
    "        predictions.append(yhat)\n",
    "        history.append(test[t])\n",
    "# calculate out of sample error\n",
    "    rmse = sqrt(mean_squared_error(test, predictions))\n",
    "    return rmse"
   ]
  },
  {
   "cell_type": "code",
   "execution_count": 53,
   "id": "388ca783",
   "metadata": {},
   "outputs": [],
   "source": [
    "# grid search ARIMA parameters for a time series\n",
    "\n",
    "import warnings\n",
    "from pandas import read_csv\n",
    "from statsmodels.tsa.arima_model import ARIMA\n",
    "from sklearn.metrics import mean_squared_error\n",
    "from math import sqrt\n",
    "\n"
   ]
  },
  {
   "cell_type": "code",
   "execution_count": 54,
   "id": "bc3878ff",
   "metadata": {},
   "outputs": [],
   "source": [
    "# evaluate combinations of p, d and q values for an ARIMA model\n",
    "def evaluate_models(dataset, p_values, d_values, q_values):\n",
    "    dataset = dataset.astype('float32')\n",
    "    best_score, best_cfg = float('inf'), None\n",
    "    for p in p_values:\n",
    "        for d in d_values:\n",
    "            for q in q_values:\n",
    "                order = (p,d,q)\n",
    "                try:\n",
    "                    rmse = evaluate_arima_model(train, order)\n",
    "                    if rmse < best_score:\n",
    "                        best_score, best_cfg = rmse, order\n",
    "                    print('ARIMA%s RMSE=%.3f' % (order,rmse))\n",
    "                except:\n",
    "                    continue\n",
    "    print('Best ARIMA%s RMSE=%.3f' % (best_cfg, best_score))"
   ]
  },
  {
   "cell_type": "code",
   "execution_count": 55,
   "id": "251aa75d",
   "metadata": {},
   "outputs": [
    {
     "name": "stdout",
     "output_type": "stream",
     "text": [
      "ARIMA(0, 0, 0) RMSE=79.415\n",
      "ARIMA(0, 0, 1) RMSE=41.256\n",
      "ARIMA(0, 1, 0) RMSE=8.482\n",
      "ARIMA(0, 1, 1) RMSE=8.106\n",
      "ARIMA(0, 1, 2) RMSE=8.199\n",
      "ARIMA(0, 1, 3) RMSE=8.251\n",
      "ARIMA(0, 1, 4) RMSE=8.353\n",
      "ARIMA(0, 2, 0) RMSE=9.987\n",
      "ARIMA(0, 2, 1) RMSE=9.019\n",
      "ARIMA(0, 2, 2) RMSE=8.355\n",
      "ARIMA(0, 2, 3) RMSE=8.514\n",
      "ARIMA(0, 2, 4) RMSE=8.626\n",
      "ARIMA(1, 0, 0) RMSE=8.555\n",
      "ARIMA(1, 1, 0) RMSE=8.145\n",
      "ARIMA(1, 1, 1) RMSE=8.265\n",
      "ARIMA(1, 2, 0) RMSE=9.622\n",
      "ARIMA(1, 2, 1) RMSE=8.266\n",
      "ARIMA(1, 2, 2) RMSE=8.442\n",
      "ARIMA(1, 2, 3) RMSE=8.559\n",
      "ARIMA(2, 0, 0) RMSE=8.218\n",
      "ARIMA(2, 1, 0) RMSE=8.211\n",
      "ARIMA(2, 1, 1) RMSE=8.233\n",
      "ARIMA(2, 1, 2) RMSE=8.415\n",
      "ARIMA(2, 2, 0) RMSE=9.392\n",
      "ARIMA(2, 2, 1) RMSE=8.397\n",
      "ARIMA(3, 0, 0) RMSE=8.314\n",
      "ARIMA(3, 1, 0) RMSE=8.279\n",
      "ARIMA(3, 1, 1) RMSE=8.309\n",
      "ARIMA(3, 2, 0) RMSE=9.547\n",
      "ARIMA(4, 0, 0) RMSE=8.415\n",
      "ARIMA(4, 1, 0) RMSE=8.293\n",
      "ARIMA(4, 1, 1) RMSE=8.384\n",
      "ARIMA(4, 2, 0) RMSE=9.478\n",
      "ARIMA(4, 2, 1) RMSE=8.529\n",
      "Best ARIMA(0, 1, 1) RMSE=8.106\n"
     ]
    }
   ],
   "source": [
    "# load dataset\n",
    "train = read_csv('dataset.csv', header=None, index_col=0, parse_dates=True, squeeze=True)\n",
    "# evaluate parameters\n",
    "p_values = range(0, 5)\n",
    "d_values = range(0, 5)\n",
    "q_values = range(0, 5)\n",
    "warnings.filterwarnings(\"ignore\")\n",
    "evaluate_models(train.values, p_values, d_values, q_values)"
   ]
  },
  {
   "cell_type": "markdown",
   "id": "1937837c",
   "metadata": {},
   "source": [
    "Build Model based on the optimized values"
   ]
  },
  {
   "cell_type": "code",
   "execution_count": 56,
   "id": "7cde6786",
   "metadata": {},
   "outputs": [],
   "source": [
    "# save finalized model to file\n",
    "from pandas import read_csv\n",
    "from statsmodels.tsa.arima_model import ARIMA\n",
    "import numpy"
   ]
  },
  {
   "cell_type": "code",
   "execution_count": 57,
   "id": "f3ff22f8",
   "metadata": {},
   "outputs": [],
   "source": [
    "# load data\n",
    "train = read_csv('dataset.csv', header=0, index_col=0, parse_dates=True)\n",
    "# prepare data\n",
    "X = train.values\n",
    "X = X.astype('float32')"
   ]
  },
  {
   "cell_type": "code",
   "execution_count": 58,
   "id": "e22ef5a8",
   "metadata": {},
   "outputs": [],
   "source": [
    "# fit model\n",
    "model = ARIMA(X, order=(0,1,1))\n",
    "model_fit = model.fit()\n"
   ]
  },
  {
   "cell_type": "code",
   "execution_count": 59,
   "id": "f553a9b8",
   "metadata": {},
   "outputs": [
    {
     "data": {
      "text/plain": [
       "array([199.83029766, 200.92679643, 202.02329521, 203.11979399,\n",
       "       204.21629276, 205.31279154, 206.40929032, 207.50578909,\n",
       "       208.60228787, 209.69878665, 210.79528542, 211.8917842 ,\n",
       "       212.98828298, 214.08478175, 215.18128053, 216.2777793 ,\n",
       "       217.37427808, 218.47077686, 219.56727563, 220.66377441,\n",
       "       221.76027319, 222.85677196, 223.95327074, 225.04976952,\n",
       "       226.14626829, 227.24276707, 228.33926585])"
      ]
     },
     "execution_count": 59,
     "metadata": {},
     "output_type": "execute_result"
    }
   ],
   "source": [
    "forecast=model_fit.forecast(steps=27)[0]\n",
    "forecast"
   ]
  },
  {
   "cell_type": "code",
   "execution_count": 60,
   "id": "3f367fcc",
   "metadata": {},
   "outputs": [
    {
     "data": {
      "image/png": "[encoded data removed]",
      "text/plain": [
       "<Figure size 432x288 with 1 Axes>"
      ]
     },
     "metadata": {
      "needs_background": "light"
     },
     "output_type": "display_data"
    }
   ],
   "source": [
    "model_fit.plot_predict(1, 207);"
   ]
  },
  {
   "cell_type": "code",
   "execution_count": 61,
   "id": "f84ef284",
   "metadata": {},
   "outputs": [
    {
     "data": {
      "text/plain": [
       "38.623671554859214"
      ]
     },
     "execution_count": 61,
     "metadata": {},
     "output_type": "execute_result"
    }
   ],
   "source": [
    "#Error on the test data\n",
    "val=pd.read_csv('validation.csv',header=None)\n",
    "rmse = sqrt(mean_squared_error(val[1], forecast))\n",
    "rmse"
   ]
  },
  {
   "cell_type": "code",
   "execution_count": 77,
   "id": "e8e1ad34",
   "metadata": {},
   "outputs": [
    {
     "data": {
      "text/html": [
       "<div>\n",
       "<style scoped>\n",
       "    .dataframe tbody tr th:only-of-type {\n",
       "        vertical-align: middle;\n",
       "    }\n",
       "\n",
       "    .dataframe tbody tr th {\n",
       "        vertical-align: top;\n",
       "    }\n",
       "\n",
       "    .dataframe thead th {\n",
       "        text-align: right;\n",
       "    }\n",
       "</style>\n",
       "<table border=\"1\" class=\"dataframe\">\n",
       "  <thead>\n",
       "    <tr style=\"text-align: right;\">\n",
       "      <th></th>\n",
       "      <th>close</th>\n",
       "    </tr>\n",
       "    <tr>\n",
       "      <th>Date</th>\n",
       "      <th></th>\n",
       "    </tr>\n",
       "  </thead>\n",
       "  <tbody>\n",
       "    <tr>\n",
       "      <th>2003-01-31</th>\n",
       "      <td>3</td>\n",
       "    </tr>\n",
       "    <tr>\n",
       "      <th>2003-02-28</th>\n",
       "      <td>3</td>\n",
       "    </tr>\n",
       "    <tr>\n",
       "      <th>2003-03-31</th>\n",
       "      <td>2</td>\n",
       "    </tr>\n",
       "    <tr>\n",
       "      <th>2003-04-30</th>\n",
       "      <td>2</td>\n",
       "    </tr>\n",
       "    <tr>\n",
       "      <th>2003-05-31</th>\n",
       "      <td>3</td>\n",
       "    </tr>\n",
       "    <tr>\n",
       "      <th>...</th>\n",
       "      <td>...</td>\n",
       "    </tr>\n",
       "    <tr>\n",
       "      <th>2019-11-30</th>\n",
       "      <td>182</td>\n",
       "    </tr>\n",
       "    <tr>\n",
       "      <th>2019-12-31</th>\n",
       "      <td>176</td>\n",
       "    </tr>\n",
       "    <tr>\n",
       "      <th>2020-01-31</th>\n",
       "      <td>185</td>\n",
       "    </tr>\n",
       "    <tr>\n",
       "      <th>2020-02-29</th>\n",
       "      <td>171</td>\n",
       "    </tr>\n",
       "    <tr>\n",
       "      <th>2020-03-31</th>\n",
       "      <td>140</td>\n",
       "    </tr>\n",
       "  </tbody>\n",
       "</table>\n",
       "<p>207 rows × 1 columns</p>\n",
       "</div>"
      ],
      "text/plain": [
       "            close\n",
       "Date             \n",
       "2003-01-31      3\n",
       "2003-02-28      3\n",
       "2003-03-31      2\n",
       "2003-04-30      2\n",
       "2003-05-31      3\n",
       "...           ...\n",
       "2019-11-30    182\n",
       "2019-12-31    176\n",
       "2020-01-31    185\n",
       "2020-02-29    171\n",
       "2020-03-31    140\n",
       "\n",
       "[207 rows x 1 columns]"
      ]
     },
     "execution_count": 77,
     "metadata": {},
     "output_type": "execute_result"
    }
   ],
   "source": [
    "# fit model\n",
    "data = read_csv('EXIDEIND_close.csv', header=0, index_col=0, parse_dates=True)\n",
    "# prepare data\n",
    "X = train.values\n",
    "X = X.astype('float32')\n",
    "data"
   ]
  },
  {
   "cell_type": "code",
   "execution_count": 63,
   "id": "e8927b4e",
   "metadata": {},
   "outputs": [],
   "source": [
    "model = ARIMA(X, order=(0,1,1))\n",
    "model_fit = model.fit()"
   ]
  },
  {
   "cell_type": "code",
   "execution_count": 64,
   "id": "d26eecba",
   "metadata": {},
   "outputs": [
    {
     "data": {
      "image/png": "[encoded data removed]",
      "text/plain": [
       "<Figure size 432x288 with 1 Axes>"
      ]
     },
     "metadata": {
      "needs_background": "light"
     },
     "output_type": "display_data"
    }
   ],
   "source": [
    "forecast1=model_fit.forecast(steps=10)[0]\n",
    "model_fit.plot_predict(1,230);"
   ]
  },
  {
   "cell_type": "code",
   "execution_count": 65,
   "id": "ce7ac025",
   "metadata": {},
   "outputs": [
    {
     "data": {
      "text/plain": [
       "array([199.83029766, 200.92679643, 202.02329521, 203.11979399,\n",
       "       204.21629276, 205.31279154, 206.40929032, 207.50578909,\n",
       "       208.60228787, 209.69878665])"
      ]
     },
     "execution_count": 65,
     "metadata": {},
     "output_type": "execute_result"
    }
   ],
   "source": [
    "forecast1"
   ]
  },
  {
   "cell_type": "code",
   "execution_count": null,
   "id": "c0913461",
   "metadata": {},
   "outputs": [],
   "source": []
  }
 ],
 "metadata": {
  "kernelspec": {
   "display_name": "Python 3 (ipykernel)",
   "language": "python",
   "name": "python3"
  },
  "language_info": {
   "codemirror_mode": {
    "name": "ipython",
    "version": 3
   },
   "file_extension": ".py",
   "mimetype": "text/x-python",
   "name": "python",
   "nbconvert_exporter": "python",
   "pygments_lexer": "ipython3",
   "version": "3.9.7"
  }
 },
 "nbformat": 4,
 "nbformat_minor": 5
}
